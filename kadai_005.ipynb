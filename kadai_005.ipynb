{
  "nbformat": 4,
  "nbformat_minor": 0,
  "metadata": {
    "colab": {
      "provenance": []
    },
    "kernelspec": {
      "name": "python3",
      "display_name": "Python 3"
    },
    "language_info": {
      "name": "python"
    }
  },
  "cells": [
    {
      "cell_type": "code",
      "source": [
        "#公式：台形の面積＝（上辺＋下辺）＊高さ/2\n",
        "upper_base = 10\n",
        "lower_base = 20\n",
        "height = 5\n",
        "\n",
        "area = (10 + 20) * 5 / 2\n",
        "(f\"{upper_base}+{lower_base} * {height} / 2 = {area}cm²\")\n",
        "\n",
        "print(f\"台形の面積は{area}cm²です。\")"
      ],
      "metadata": {
        "colab": {
          "base_uri": "https://localhost:8080/"
        },
        "id": "KRrOmRu_ZW5C",
        "outputId": "5c8e9f60-d093-41ae-c16f-eaa718e4077c"
      },
      "execution_count": null,
      "outputs": [
        {
          "output_type": "stream",
          "name": "stdout",
          "text": [
            "台形の面積は75.0cm²です。\n"
          ]
        }
      ]
    }
  ]
}
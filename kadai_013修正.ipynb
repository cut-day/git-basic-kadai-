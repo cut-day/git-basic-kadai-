{
  "nbformat": 4,
  "nbformat_minor": 0,
  "metadata": {
    "colab": {
      "provenance": []
    },
    "kernelspec": {
      "name": "python3",
      "display_name": "Python 3"
    },
    "language_info": {
      "name": "python"
    }
  },
  "cells": [
    {
      "cell_type": "code",
      "source": [
        "def calculate_total(price):\n",
        "\n",
        "#消費税10％\n",
        "  tax_rate = 1.1\n",
        "#トータルは税込みにする\n",
        "  total_price = price * tax_rate\n",
        "  return total_price\n",
        "\n",
        "# 商品の金額を1000円として計算し、結果を表示\n",
        "price = 1000\n",
        "result = calculate_total(price)\n",
        "print(f\"税込価格は{result}円です。\")"
      ],
      "metadata": {
        "colab": {
          "base_uri": "https://localhost:8080/"
        },
        "id": "D5WxRlCSuShN",
        "outputId": "5b83e0a5-c286-403c-e411-b102a99b4f5e"
      },
      "execution_count": null,
      "outputs": [
        {
          "output_type": "stream",
          "name": "stdout",
          "text": [
            "税込価格は1100.0円です。\n"
          ]
        }
      ]
    },
    {
      "cell_type": "markdown",
      "source": [
        "上記コード修正↓"
      ],
      "metadata": {
        "id": "P7VMVLp_WbWP"
      }
    },
    {
      "cell_type": "code",
      "source": [
        "def calculate_total(price, tax_rate):\n",
        "\n",
        "#price:商品の価格、tax_rate:消費税率\n",
        "    total_price = price * (1 + tax_rate)\n",
        "    return total_price\n",
        "\n",
        "# 商品の金額を1000円、消費税率を10%として計算し、結果を表示\n",
        "price = 1000\n",
        "tax_rate = 0.1\n",
        "result = calculate_total(price, tax_rate)\n",
        "print(f\"税込価格は{result}円です。\")"
      ],
      "metadata": {
        "id": "powRQCR3v7fn",
        "colab": {
          "base_uri": "https://localhost:8080/"
        },
        "outputId": "8e14c7a9-e0df-4e26-cd50-ef8c19cd8eb5"
      },
      "execution_count": 3,
      "outputs": [
        {
          "output_type": "stream",
          "name": "stdout",
          "text": [
            "税込価格は1100.0円です。\n"
          ]
        }
      ]
    },
    {
      "cell_type": "code",
      "source": [],
      "metadata": {
        "id": "Z2kX2CIKVw3U"
      },
      "execution_count": null,
      "outputs": []
    }
  ]
}
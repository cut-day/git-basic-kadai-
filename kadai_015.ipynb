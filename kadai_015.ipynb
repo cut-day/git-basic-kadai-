{
  "nbformat": 4,
  "nbformat_minor": 0,
  "metadata": {
    "colab": {
      "provenance": []
    },
    "kernelspec": {
      "name": "python3",
      "display_name": "Python 3"
    },
    "language_info": {
      "name": "python"
    }
  },
  "cells": [
    {
      "cell_type": "code",
      "execution_count": null,
      "metadata": {
        "id": "95VSQVZ9buKG"
      },
      "outputs": [],
      "source": []
    },
    {
      "cell_type": "code",
      "source": [
        "class Human:\n",
        "  #コンストラクタを定義\n",
        "    def __init__(self, name, age):\n",
        "      #属性を定義\n",
        "        self.name = name\n",
        "        self.age = age\n",
        "      #名前、年齢の情報を記述\n",
        "    def printinfo(self):\n",
        "        print(f\"名前: {self.name}, 年齢: {self.age}\")\n",
        "\n",
        "# Humanクラスのインスタンス化\n",
        "mate = Human(\"男一郎\", 15)\n",
        "\n",
        "# メソッドを呼び出して情報を表示\n",
        "mate.printinfo()"
      ],
      "metadata": {
        "colab": {
          "base_uri": "https://localhost:8080/"
        },
        "id": "jBVk4p6KXi-0",
        "outputId": "d70f6c97-881c-4585-f63f-04afc167acf5"
      },
      "execution_count": null,
      "outputs": [
        {
          "output_type": "stream",
          "name": "stdout",
          "text": [
            "名前: 男一郎, 年齢: 15\n"
          ]
        }
      ]
    },
    {
      "cell_type": "code",
      "source": [],
      "metadata": {
        "id": "sMf9sIfqb8rP"
      },
      "execution_count": null,
      "outputs": []
    }
  ]
}
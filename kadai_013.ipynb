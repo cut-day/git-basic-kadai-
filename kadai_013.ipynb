{
  "nbformat": 4,
  "nbformat_minor": 0,
  "metadata": {
    "colab": {
      "provenance": []
    },
    "kernelspec": {
      "name": "python3",
      "display_name": "Python 3"
    },
    "language_info": {
      "name": "python"
    }
  },
  "cells": [
    {
      "cell_type": "code",
      "source": [
        "def calculate_total(price):\n",
        "\n",
        "#消費税10％\n",
        "  tax_rate = 1.1\n",
        "#トータルは税込みにする\n",
        "  total_price = price * tax_rate\n",
        "  return total_price\n",
        "\n",
        "# 商品の金額を1000円として計算し、結果を表示\n",
        "price = 1000\n",
        "result = calculate_total(price)\n",
        "print(f\"税込価格は{result}円です。\")"
      ],
      "metadata": {
        "colab": {
          "base_uri": "https://localhost:8080/"
        },
        "id": "D5WxRlCSuShN",
        "outputId": "5b83e0a5-c286-403c-e411-b102a99b4f5e"
      },
      "execution_count": null,
      "outputs": [
        {
          "output_type": "stream",
          "name": "stdout",
          "text": [
            "税込価格は1100.0円です。\n"
          ]
        }
      ]
    },
    {
      "cell_type": "code",
      "source": [],
      "metadata": {
        "id": "powRQCR3v7fn"
      },
      "execution_count": null,
      "outputs": []
    }
  ]
}
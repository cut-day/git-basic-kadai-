{
  "nbformat": 4,
  "nbformat_minor": 0,
  "metadata": {
    "colab": {
      "provenance": []
    },
    "kernelspec": {
      "name": "python3",
      "display_name": "Python 3"
    },
    "language_info": {
      "name": "python"
    }
  },
  "cells": [
    {
      "cell_type": "code",
      "source": [
        "from sklearn.datasets import load_wine\n",
        "\n",
        "dataset = load_wine()\n",
        "dataset\n",
        "\n",
        "import pandas as pd\n",
        "df = pd.DataFrame(data=dataset.data, columns=dataset.feature_names)\n",
        "df.head()\n",
        "\n",
        "df['category'] = dataset.target\n",
        "df.head()\n",
        "\n",
        "# 説明変数と目的変数を設定\n",
        "X = df.drop('category', axis=1)  # 説明変数\n",
        "y = df['category']  # 目的変数\n",
        "\n",
        "# データを学習データとテストデータに分割\n",
        "from sklearn.model_selection import train_test_split\n",
        "X_train, X_test, y_train, y_test = train_test_split(X, y, test_size=0.3, random_state=3)\n",
        "\n",
        "#ランダムフォレストに変更\n",
        "from sklearn.ensemble import RandomForestClassifier\n",
        "\n",
        "# ランダムフォレストのモデルを作成（インスタンス化）\n",
        "model = RandomForestClassifier(random_state=3)\n",
        "\n",
        "#fitメソッドを実行することで、学習\n",
        "#第1引数にX_trainを、第2引数にy_trainを指定\n",
        "model.fit(X_train, y_train)\n",
        "\n",
        "\n",
        "#学習済みの予測モデルを評価\n",
        "#predictメソッドの引数には、説明変数XのテストデータであるX_testを指定\n",
        "#予測値を変数y_predに代入して出力\n",
        "y_pred = model.predict(X_test)\n",
        "y_pred\n",
        "\n",
        "#accuracy_score関数をインポート\n",
        "from sklearn.metrics import accuracy_score\n",
        "\n",
        "# 決定木モデルのインポート\n",
        "from sklearn.tree import DecisionTreeClassifier\n",
        "\n",
        "# 決定木モデルのインスタンス化\n",
        "tree_model = DecisionTreeClassifier(random_state=3)\n",
        "\n",
        "# 決定木モデルの学習\n",
        "tree_model.fit(X_train, y_train)\n",
        "\n",
        "# 決定木モデルで予測\n",
        "tree_y_pred = tree_model.predict(X_test)\n",
        "\n",
        "# 決定木モデルの正解率\n",
        "tree_accuracy = accuracy_score(y_test, tree_y_pred)\n",
        "print(f\"決定木の正解率: {tree_accuracy}\")\n",
        "\n",
        "#第1引数にテストデータであるy_testを、第2引数に予測値であるy_predをセット\n",
        "accuracy_score(y_test, y_pred)\n",
        "\n",
        "# ランダムフォレストの正解率\n",
        "forest_accuracy = accuracy_score(y_test, y_pred)\n",
        "print(f\"ランダムフォレストの正解率: {forest_accuracy}\")"
      ],
      "metadata": {
        "colab": {
          "base_uri": "https://localhost:8080/"
        },
        "id": "BSyrxqmVoRMk",
        "outputId": "96301554-3b7e-4c26-fd45-2f4035d22f78"
      },
      "execution_count": 20,
      "outputs": [
        {
          "output_type": "stream",
          "name": "stdout",
          "text": [
            "決定木の正解率: 0.9074074074074074\n",
            "ランダムフォレストの正解率: 0.9629629629629629\n"
          ]
        }
      ]
    },
    {
      "cell_type": "code",
      "source": [],
      "metadata": {
        "id": "6EVIhyKCoTCd"
      },
      "execution_count": null,
      "outputs": []
    }
  ]
}
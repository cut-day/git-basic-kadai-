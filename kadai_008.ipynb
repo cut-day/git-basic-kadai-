{
  "nbformat": 4,
  "nbformat_minor": 0,
  "metadata": {
    "colab": {
      "provenance": []
    },
    "kernelspec": {
      "name": "python3",
      "display_name": "Python 3"
    },
    "language_info": {
      "name": "python"
    }
  },
  "cells": [
    {
      "cell_type": "code",
      "execution_count": null,
      "metadata": {
        "id": "5Zf1K_i3IxXB"
      },
      "outputs": [],
      "source": []
    },
    {
      "cell_type": "code",
      "source": [
        "import random\n",
        "#変数の範囲がないため、上限300とし、変数は正の整数なので1から始める\n",
        "var= random.randint(1,300)\n",
        "print(var)\n",
        "#変数varが、3の倍数の場合は「Fizz」を出力（余りがない＝0）\n",
        "if var % 3 == 0:\n",
        "  print(\"Fizz\")\n",
        "#変数varが、5の倍数の場合は「Buzz」を出力（余りがない＝0）\n",
        "elif var % 5 == 0:\n",
        "  print(\"Buzz\")\n",
        "#変数varが、3の倍数と5の倍数の両方に該当する場合は「FizzBuzz」を出力\n",
        "if var % 3 == 0 and var % 5 == 0:\n",
        "  print(\"FizzBuzz\")\n",
        "#それ以外の場合は変数varの値を出力\n",
        "else:\n",
        "  print(var)\n",
        "#上記ｺｰﾄﾞ⤴だと、問題の順にコードを記載したため、３と５の倍数に合致する数の場合でも回答でFizzが出るが、Fizzを出す方法や、Buzz、Fizzを出さずにFizzBuzzを出す方法はわかりません。"
      ],
      "metadata": {
        "colab": {
          "base_uri": "https://localhost:8080/"
        },
        "id": "kp-g7DxSwPlW",
        "outputId": "7295203d-c748-44fe-d6c9-695b4f9cea7d"
      },
      "execution_count": null,
      "outputs": [
        {
          "output_type": "stream",
          "name": "stdout",
          "text": [
            "15\n",
            "Fizz\n",
            "FizzBuzz\n"
          ]
        }
      ]
    }
  ]
}